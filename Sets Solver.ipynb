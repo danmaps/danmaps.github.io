{
 "cells": [
  {
   "cell_type": "markdown",
   "metadata": {},
   "source": [
    "# Sets Solved\n",
    "\n",
    "Set is a card game where each card is defined by a combination of four attributes: shape (diamond, oval, or squiggle), color (red, purple, green), number (one, two, or three elements), and shading (open, hatched, or filled). The object of the game is to find sets in the 12 cards drawn at a time that are distinct in every way or identical in just one way (e.g. all of the same color). From Wikipedia: A set consists of three cards which satisfy all of these conditions:\n",
    "\n",
    "* They all have the same number, or they have three different numbers.\n",
    "* They all have the same symbol, or they have three different symbols.\n",
    "* They all have the same shading, or they have three different shadings.\n",
    "* They all have the same color, or they have three different colors.\n",
    "\n",
    "The rules of Set are summarized by: If you can sort a group of three cards into \"Two of ____ and one of _____,\" then it is not a set.\n",
    "See the Wikipedia page for the Set game for for more background.\n",
    "http://en.wikipedia.org/wiki/Set_(game)\n",
    "\n",
    "A game will present 12 cards described with four characters for shape, color, number, and shading: (D)iamond, (O)val, (S)quiggle; (R)ed, (P)urple, (G)reen; (1), (2), or (3); and (O)pen, (H)atched, (F)illed.\n",
    "\n",
    "![puzzlescreenshot](https://dannyb.esri.com/img/PUZZ.png)\n"
   ]
  },
  {
   "cell_type": "markdown",
   "metadata": {},
   "source": [
    "Encoded version of today's (7/27/17) [daily puzzle](https://www.setgame.com/set/puzzle):"
   ]
  },
  {
   "cell_type": "code",
   "execution_count": 53,
   "metadata": {
    "collapsed": true
   },
   "outputs": [],
   "source": [
    "lines = [\"OG1F\",\"DG3F\",\"OR1H\",\"OP2F\",\"OP1H\",\"SR1H\",\"OP2O\",\"OR1O\",\"OG3F\",\"OP2H\",\"DP3H\",\"OP3O\"]"
   ]
  },
  {
   "cell_type": "markdown",
   "metadata": {},
   "source": [
    "Code below adapted from https://www.reddit.com/r/dailyprogrammer/comments/3ke4l6/20150909_challenge_231_intermediate_set_game/cuwox40/\n",
    "\n",
    "and slightly altered to include the card index for easier cheating..."
   ]
  },
  {
   "cell_type": "code",
   "execution_count": 54,
   "metadata": {
    "collapsed": false
   },
   "outputs": [
    {
     "name": "stdout",
     "output_type": "stream",
     "text": [
      "0:OG1F 4:OP1H 7:OR1O \n",
      "1:DG3F 5:SR1H 6:OP2O \n",
      "2:OR1H 6:OP2O 8:OG3F \n",
      "3:OP2F 4:OP1H 11:OP3O \n",
      "3:OP2F 6:OP2O 9:OP2H \n",
      "7:OR1O 8:OG3F 9:OP2H \n"
     ]
    }
   ],
   "source": [
    "from itertools import combinations\n",
    "\n",
    "for cards in combinations(lines, 3):\n",
    "    if any(len(set(card[i] for card in cards)) == 2 for i in range(4)):\n",
    "        continue\n",
    "    for card in cards:\n",
    "        print(lines.index(card),end=\":\")\n",
    "        print(card, end=\" \")    \n",
    "    print()"
   ]
  },
  {
   "cell_type": "code",
   "execution_count": null,
   "metadata": {
    "collapsed": true
   },
   "outputs": [],
   "source": [
    "Solution uses [itertools.combinations](https://docs.python.org/3/library/itertools.html#itertools.combinations) to compare all combinations of cards. This brute force approach is feasible because the number of possible combinations is limited to "
   ]
  }
 ],
 "metadata": {
  "kernelspec": {
   "display_name": "Python 3",
   "language": "python",
   "name": "python3"
  },
  "language_info": {
   "codemirror_mode": {
    "name": "ipython",
    "version": 3
   },
   "file_extension": ".py",
   "mimetype": "text/x-python",
   "name": "python",
   "nbconvert_exporter": "python",
   "pygments_lexer": "ipython3",
   "version": "3.6.0"
  }
 },
 "nbformat": 4,
 "nbformat_minor": 2
}
